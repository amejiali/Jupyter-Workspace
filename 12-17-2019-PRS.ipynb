{
 "cells": [
  {
   "cell_type": "code",
   "execution_count": 4,
   "metadata": {},
   "outputs": [
    {
     "name": "stdout",
     "output_type": "stream",
     "text": [
      "Let's Play Rock Paper Scissors!\n"
     ]
    },
    {
     "name": "stdin",
     "output_type": "stream",
     "text": [
      "Make your Choice: (r)ock, (p)aper, (s)cissors?  r\n"
     ]
    },
    {
     "name": "stdout",
     "output_type": "stream",
     "text": [
      "User WINS!\n",
      "User Choice: r Computer Choice: s\n"
     ]
    }
   ],
   "source": [
    "# Incorporate the random library\n",
    "import random\n",
    "\n",
    "# Print Title\n",
    "print(\"Let's Play Rock Paper Scissors!\")\n",
    "\n",
    "# Specify the three options\n",
    "options = [\"r\", \"p\", \"s\"]\n",
    "\n",
    "# Computer Selection\n",
    "computer_choice = random.choice(options)\n",
    "\n",
    "# User Selection\n",
    "user_choice = input(\"Make your Choice: (r)ock, (p)aper, (s)cissors? \")\n",
    "\n",
    "# Run Conditionals\n",
    "if user_choice == \"r\":\n",
    "    if computer_choice == \"s\":\n",
    "        print(\"User WINS!\")\n",
    "    elif computer_choice == \"p\":\n",
    "        print(\"Computer WINS!\")\n",
    "    else:\n",
    "        print(\"Nobody WINS!\")\n",
    "elif user_choice == \"p\":\n",
    "    if computer_choice == \"r\":\n",
    "        print(\"User WINS!\")\n",
    "    elif computer_choice == \"s\":\n",
    "        print(\"Computer WINS!\")\n",
    "    else:\n",
    "        print(\"Nobody WINS!\")\n",
    "else:\n",
    "    if computer_choice == \"p\":\n",
    "        print(\"User WINS!\")\n",
    "    elif computer_choice == \"r\":\n",
    "        print(\"Computer WINS!\")\n",
    "    else:\n",
    "        print(\"Nobody WINS!\")\n",
    "print (f\"User Choice: {user_choice} Computer Choice: {computer_choice}\")"
   ]
  },
  {
   "cell_type": "code",
   "execution_count": null,
   "metadata": {},
   "outputs": [],
   "source": []
  }
 ],
 "metadata": {
  "kernelspec": {
   "display_name": "Python 3",
   "language": "python",
   "name": "python3"
  },
  "language_info": {
   "codemirror_mode": {
    "name": "ipython",
    "version": 3
   },
   "file_extension": ".py",
   "mimetype": "text/x-python",
   "name": "python",
   "nbconvert_exporter": "python",
   "pygments_lexer": "ipython3",
   "version": "3.7.4"
  }
 },
 "nbformat": 4,
 "nbformat_minor": 4
}
