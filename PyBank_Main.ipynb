{
 "cells": [
  {
   "cell_type": "code",
   "execution_count": 23,
   "metadata": {},
   "outputs": [
    {
     "name": "stdout",
     "output_type": "stream",
     "text": [
      "Financial Analysis\n",
      "------------------------------------------\n",
      "Total Months...................: 86\n",
      "Total P&L......................: $38382578\n",
      "Average Change.................: $-2315.12\n",
      "Greatest Increase in Profits...: $1926159\n",
      "Greatest Decrease in Profits...: $-2196167\n"
     ]
    }
   ],
   "source": [
    "# PyBank - Python Homework - Andres Mejia - Rice FinTech Boot Camp - December 21, 2019\n",
    "# Import the needed libraries to interact with csv files\n",
    "## Path and csv\n",
    "\n",
    "\"\"\"\n",
    "This script processes an input file located in one level up running directory \"../budget_data.csv\".\n",
    "After processing the data, prints the results on screen.\n",
    "Also generated the file \"../Financial_Analysis_PyBank.txt\" located in the same directoy as input file. \n",
    "\"\"\"\n",
    "\n",
    "# Import the needed libraries\n",
    "## pathlib, statistics and csv\n",
    "\n",
    "from statistics import mean\n",
    "from pathlib import Path\n",
    "import csv\n",
    "\n",
    "# Defining Files Paths and names\n",
    "\n",
    "file_path = Path('../budget_data.csv')             # Input File is in one level up directory\n",
    "file_path_resutl = Path('../Financial_Analysis_PyBank.txt') # Output File is in one level up directory\n",
    "\n",
    "# Initializing variables\n",
    "my_file = \"\"           # to handle file in code\n",
    "each_line = \"\"         # File line data\n",
    "file_header = \"\"       # File Header\n",
    "date_profit = {}       # date_profit --> dict with all the data from csv file\n",
    "n_months = 0           # n_monts is the number of months in the csv file\n",
    "net_pl = 0             # net_pl is the total amount of profit/losses\n",
    "avg_ch_pl = 0          # avg_ch_pl --> average of changes in p&l\n",
    "pl_ant = 0             # previous P&L\n",
    "pl_curr = 0            # current P&L\n",
    "delta_pl = {}          # changes in P&L by date\n",
    "\n",
    "\n",
    "# Opening and Reading the file budget.csv from one level up directory\n",
    "\n",
    "with open(file_path, 'r') as my_file:\n",
    "    each_line = csv.reader (my_file, delimiter=',')\n",
    "    file_header = next(each_line)\n",
    "    for row in each_line:                              # Loop reading each line in file\n",
    "        pl_curr = int(row[1])                          # Current P&L\n",
    "        if pl_ant != 0:                                # Starts calculating sum_ch_pl from 2nd date\n",
    "            delta_pl.update({row[0]:pl_curr - pl_ant}) # Storing the changes in P&L\n",
    "        date_profit.update({row[0]:row[1]})            # Populating date_profit dictionary\n",
    "        net_pl = net_pl + int(row[1])                  # Storing P&L\n",
    "        pl_ant = int(row[1])                           # storing previous P&L for nrxt iteration\n",
    "    n_months = len(date_profit)                        # n_months is the number of entries in dictionary \n",
    "\n",
    "print(\"Financial Analysis\")\n",
    "print(\"------------------------------------------\")\n",
    "print(f\"Total Months...................: {n_months}\")\n",
    "print(f\"Total P&L......................: ${net_pl}\")\n",
    "print(f\"Average Change.................: ${round(mean([int(i) for i in delta_pl.values()]),2)}\")\n",
    "print(f\"Greatest Increase in Profits...: ${max([i for i in delta_pl.values()])}\")\n",
    "print(f\"Greatest Decrease in Profits...: ${min([i for i in delta_pl.values()])}\")\n",
    "\n",
    "# Creating the result file \"Financial_Analysis_PyBank.txt\" in one level up directory.\n",
    "\n",
    "with open(file_path_resutl, 'w') as my_file:\n",
    "    my_file.write(\"Financial Analysis\\n\")\n",
    "    my_file.write(\"------------------------------------------\\n\")\n",
    "    my_file.write(f\"Total Months...................: {n_months}\\n\")\n",
    "    my_file.write(f\"Total P&L......................: ${net_pl}\\n\")\n",
    "    my_file.write(f\"Average Change.................: ${round(mean([int(i) for i in delta_pl.values()]),2)}\\n\")\n",
    "    my_file.write(f\"Greatest Increase in Profits...: ${max([i for i in delta_pl.values()])}\\n\")\n",
    "    my_file.write(f\"Greatest Decrease in Profits...: ${min([i for i in delta_pl.values()])}\")"
   ]
  },
  {
   "cell_type": "code",
   "execution_count": null,
   "metadata": {},
   "outputs": [],
   "source": []
  }
 ],
 "metadata": {
  "kernelspec": {
   "display_name": "Python 3",
   "language": "python",
   "name": "python3"
  },
  "language_info": {
   "codemirror_mode": {
    "name": "ipython",
    "version": 3
   },
   "file_extension": ".py",
   "mimetype": "text/x-python",
   "name": "python",
   "nbconvert_exporter": "python",
   "pygments_lexer": "ipython3",
   "version": "3.7.4"
  }
 },
 "nbformat": 4,
 "nbformat_minor": 4
}
