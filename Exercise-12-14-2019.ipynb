{
 "cells": [
  {
   "cell_type": "code",
   "execution_count": 7,
   "metadata": {},
   "outputs": [],
   "source": [
    "def create_phrase (name, revenue):\n",
    "    if revenue > 3000:\n",
    "        print(f\"Congratulations {name}, You have reached PLATINUM Status!\")\n",
    "    elif revenue > 2000 and revenue <= 3000:\n",
    "        print(f\"Congratulations {name}, You have reached GOLD Status!\")\n",
    "    elif revenue > 1000 and revenue <= 2000:\n",
    "        print(f\"Congratulations {name}, You have reached SILVER Status!\")\n",
    "    else:\n",
    "        print(f\"Congratulations {name}, You have reached BRONZE Status!\")\n",
    "    "
   ]
  },
  {
   "cell_type": "code",
   "execution_count": 15,
   "metadata": {},
   "outputs": [
    {
     "name": "stdout",
     "output_type": "stream",
     "text": [
      "Congratulations andres, You have reached SILVER Status!\n"
     ]
    }
   ],
   "source": [
    "create_phrase (\"andres\", 1001)"
   ]
  },
  {
   "cell_type": "code",
   "execution_count": 21,
   "metadata": {},
   "outputs": [
    {
     "name": "stdout",
     "output_type": "stream",
     "text": [
      "Congratulations Cust1, You have reached BRONZE Status!\n",
      "Congratulations Cust2, You have reached SILVER Status!\n",
      "Congratulations Cust3, You have reached GOLD Status!\n",
      "Congratulations Cust4, You have reached PLATINUM Status!\n",
      "Congratulations Cust5, You have reached PLATINUM Status!\n",
      "Congratulations Cust6, You have reached PLATINUM Status!\n",
      "Congratulations Cust7, You have reached BRONZE Status!\n",
      "Congratulations Cust8, You have reached BRONZE Status!\n",
      "Congratulations Cust9, You have reached GOLD Status!\n",
      "Congratulations Cust10, You have reached PLATINUM Status!\n"
     ]
    }
   ],
   "source": [
    "customers = {\n",
    "    \"Cust1\":1000,\n",
    "    \"Cust2\":2000,\n",
    "    \"Cust3\":3000,\n",
    "    \"Cust4\":4000,\n",
    "    \"Cust5\":5000,\n",
    "    \"Cust6\":6000,\n",
    "    \"Cust7\":500,\n",
    "    \"Cust8\":600,\n",
    "    \"Cust9\":2500,\n",
    "    \"Cust10\":4000\n",
    "}\n",
    "\n",
    "for cust_name, cust_revenue in customers.items():\n",
    "    create_phrase(cust_name, cust_revenue)"
   ]
  },
  {
   "cell_type": "code",
   "execution_count": 22,
   "metadata": {},
   "outputs": [],
   "source": [
    "customers = [\n",
    "    { \"first_name\": \"Tom\", \"last_name\": \"Bell\", \"revenue\": 0 },\n",
    "    { \"first_name\": \"Maggie\", \"last_name\": \"Johnson\", \"revenue\": 1032 },\n",
    "    { \"first_name\": \"John\", \"last_name\": \"Spectre\", \"revenue\": 2543 },\n",
    "    { \"first_name\": \"Susy\", \"last_name\": \"Simmons\", \"revenue\": 5322 }\n",
    "]\n",
    "\n",
    "for cust_name, cust_revenue in customers.items():\n",
    "    create_phrase(cust_name, cust_revenue)"
   ]
  },
  {
   "cell_type": "code",
   "execution_count": null,
   "metadata": {},
   "outputs": [],
   "source": []
  }
 ],
 "metadata": {
  "kernelspec": {
   "display_name": "Python 3",
   "language": "python",
   "name": "python3"
  },
  "language_info": {
   "codemirror_mode": {
    "name": "ipython",
    "version": 3
   },
   "file_extension": ".py",
   "mimetype": "text/x-python",
   "name": "python",
   "nbconvert_exporter": "python",
   "pygments_lexer": "ipython3",
   "version": "3.7.4"
  }
 },
 "nbformat": 4,
 "nbformat_minor": 4
}
