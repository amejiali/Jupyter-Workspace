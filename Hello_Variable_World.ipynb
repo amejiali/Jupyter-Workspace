{
 "cells": [
  {
   "cell_type": "code",
   "execution_count": null,
   "metadata": {},
   "outputs": [],
   "source": [
    "# Percent Increase Bonus Activity\n",
    "\n",
    "# Formulas\n",
    "# Increase = Current Price - Original Price\n",
    "# Percent Increase = Increase / Original x 100\n",
    "\n",
    "# Create integer variable for original_price\n",
    "\n",
    "original_price = 219.02\n",
    "\n",
    "# Create integer variable for current_price\n",
    "\n",
    "current_price = 284.09\n",
    "\n",
    "# Calculate difference between current_price and original_price\n",
    "\n",
    "increase = current_price - original_price\n",
    "\n",
    "# Calculate percent_increase\n",
    "\n",
    "percent_increase = (increase / original_price) * 100\n",
    "\n",
    "\n",
    "# Print original_price\n",
    "print(f\"Apple's original stock price was ${original_price}\")\n",
    "\n",
    "# Print current_price\n",
    "print(f\"Apples current stock price is ${current_price}\")\n",
    "\n",
    "# Print percent_increase\n"
   ]
  }
 ],
 "metadata": {
  "kernelspec": {
   "display_name": "Python 3",
   "language": "python",
   "name": "python3"
  },
  "language_info": {
   "codemirror_mode": {
    "name": "ipython",
    "version": 3
   },
   "file_extension": ".py",
   "mimetype": "text/x-python",
   "name": "python",
   "nbconvert_exporter": "python",
   "pygments_lexer": "ipython3",
   "version": "3.7.4"
  }
 },
 "nbformat": 4,
 "nbformat_minor": 4
}
