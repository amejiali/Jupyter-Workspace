{
 "cells": [
  {
   "cell_type": "code",
   "execution_count": 1,
   "metadata": {},
   "outputs": [
    {
     "name": "stdout",
     "output_type": "stream",
     "text": [
      "is allowed to drink alcohol in the US\n"
     ]
    }
   ],
   "source": [
    "age = 28\n",
    "\n",
    "if age > 21:\n",
    "    print(\"is allowed to drink alcohol in the US\")\n",
    "else:\n",
    "    print(\"is not allowed to drink. Go home.\")"
   ]
  },
  {
   "cell_type": "code",
   "execution_count": 3,
   "metadata": {},
   "outputs": [
    {
     "name": "stdout",
     "output_type": "stream",
     "text": [
      "x is four\n"
     ]
    }
   ],
   "source": [
    "x = 4\n",
    "y = 3\n",
    "\n",
    "if x > 4:\n",
    "    if y > 2:\n",
    "        print(\"x is larger than four, y is larger than two\")\n",
    "    else:\n",
    "        print(\"x is larger than four, y is smaller than 2\")\n",
    "elif x == 4:\n",
    "    print(\"x is four\")\n",
    "else:\n",
    "    print(\"x is less than three\")"
   ]
  },
  {
   "cell_type": "code",
   "execution_count": 4,
   "metadata": {},
   "outputs": [
    {
     "name": "stdout",
     "output_type": "stream",
     "text": [
      "0\n",
      "1\n",
      "2\n",
      "3\n",
      "4\n",
      "5\n",
      "6\n",
      "7\n",
      "8\n",
      "9\n",
      "10\n",
      "11\n",
      "12\n",
      "13\n",
      "14\n",
      "15\n",
      "16\n",
      "17\n",
      "18\n",
      "19\n"
     ]
    }
   ],
   "source": [
    "for x in range(20):\n",
    "    print(x)"
   ]
  },
  {
   "cell_type": "code",
   "execution_count": 5,
   "metadata": {},
   "outputs": [
    {
     "name": "stdout",
     "output_type": "stream",
     "text": [
      "mango\n",
      "banana\n",
      "kiwi\n",
      "pineapple\n",
      "coconut\n"
     ]
    }
   ],
   "source": [
    "fruits = [\"mango\", \"banana\", \"kiwi\", \"pineapple\", \"coconut\"]\n",
    "\n",
    "for fruit in fruits:\n",
    "    print(fruit)"
   ]
  },
  {
   "cell_type": "code",
   "execution_count": 6,
   "metadata": {},
   "outputs": [
    {
     "name": "stdout",
     "output_type": "stream",
     "text": [
      "400\n",
      "odd\n",
      "484\n",
      "odd\n",
      "576\n",
      "odd\n",
      "676\n",
      "odd\n",
      "784\n",
      "odd\n",
      "900\n",
      "odd\n",
      "1024\n",
      "odd\n",
      "1156\n",
      "odd\n",
      "1296\n",
      "odd\n",
      "1444\n",
      "odd\n",
      "1600\n",
      "odd\n",
      "1764\n",
      "odd\n",
      "1936\n",
      "odd\n",
      "2116\n",
      "odd\n",
      "2304\n",
      "odd\n",
      "2500\n",
      "odd\n",
      "2704\n",
      "odd\n",
      "2916\n",
      "odd\n",
      "3136\n",
      "odd\n",
      "3364\n",
      "odd\n",
      "3600\n",
      "odd\n",
      "3844\n",
      "odd\n",
      "4096\n",
      "odd\n",
      "4356\n",
      "odd\n",
      "4624\n",
      "odd\n",
      "4900\n",
      "odd\n",
      "5184\n",
      "odd\n",
      "5476\n",
      "odd\n",
      "5776\n",
      "odd\n",
      "6084\n",
      "odd\n",
      "6400\n",
      "odd\n",
      "6724\n",
      "odd\n",
      "7056\n",
      "odd\n",
      "7396\n",
      "odd\n",
      "7744\n"
     ]
    }
   ],
   "source": [
    "for x in range(20,89):\n",
    "    if x%2 == 0:\n",
    "        print(x**2)\n",
    "    else:\n",
    "        print(\"odd\")"
   ]
  },
  {
   "cell_type": "code",
   "execution_count": null,
   "metadata": {},
   "outputs": [],
   "source": []
  }
 ],
 "metadata": {
  "kernelspec": {
   "display_name": "Python 3",
   "language": "python",
   "name": "python3"
  },
  "language_info": {
   "codemirror_mode": {
    "name": "ipython",
    "version": 3
   },
   "file_extension": ".py",
   "mimetype": "text/x-python",
   "name": "python",
   "nbconvert_exporter": "python",
   "pygments_lexer": "ipython3",
   "version": "3.7.4"
  }
 },
 "nbformat": 4,
 "nbformat_minor": 4
}
