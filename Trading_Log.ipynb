{
 "cells": [
  {
   "cell_type": "code",
   "execution_count": 16,
   "metadata": {},
   "outputs": [],
   "source": [
    "# -*- coding: utf-8 -*-\n",
    "\"\"\"\n",
    "Student Do: Trading Log.\n",
    "\n",
    "This script demonstrates how to perform basic analysis of trading profits/losses\n",
    "over the course of a month (20 business days).\n",
    "\"\"\"\n",
    "\n",
    "# @TODO: Initialize the metric variables\n",
    "\n",
    "count = 0\n",
    "day_pnl = 0\n",
    "total = 0\n",
    "average = 0\n",
    "minimun = 0\n",
    "maximum = 0\n",
    "\n",
    "# @TODO: Initialize lists to hold profitable and unprofitable day profits/losses\n",
    "\n",
    "profitable_days = []\n",
    "unprofitable_days =[]\n",
    "\n",
    "# List of trading profits/losses\n",
    "trading_pnl = [ -224,  352, 252, 354, -544,\n",
    "                -650,   56, 123, -43,  254,\n",
    "                 325, -123,  47, 321,  123,\n",
    "                 133, -151, 613, 232, -311 ]\n",
    "\n",
    "# @TODO: Iterate over each element of the list\n",
    "# @TODO: Cumulatively sum up the total and count\n",
    "# @TODO: Write logic to determine minimum and maximum values\n",
    "# @TODO: Write logic to determine profitable vs. unprofitable days\n",
    "\n",
    "minimum = trading_pnl[0]\n",
    "maximum = trading_pnl[0]\n",
    "for day_pnl in trading_pnl:\n",
    "    if day_pnl < minimum:\n",
    "        minimum = day_pnl\n",
    "    if day_pnl > maximum:\n",
    "        maximum = day_pnl\n",
    "    total += day_pnl\n",
    "    count += 1\n",
    "    if day_pnl > 0:\n",
    "        profitable_days.append(day_pnl)\n",
    "    else:\n",
    "        unprofitable_days.append(day_pnl)\n",
    "   \n",
    "\n",
    "# @TODO: Calculate the average\n",
    "\n",
    "average = total/count\n",
    "\n",
    "\n",
    "# @TODO: Calculate count metrics\n",
    "\n",
    "profitable_count = len(profitable_days)\n",
    "unprofitable_count = len(unprofitable_days)\n",
    "\n",
    "\n",
    "# @TODO: Calculate percentage metrics\n",
    "\n",
    "percentage_profitable = profitable_count/count * 100\n",
    "percentage_unprofitable = unprofitable_count/count * 100\n",
    "\n",
    "# @TODO: Print out the summary statistics\n"
   ]
  },
  {
   "cell_type": "code",
   "execution_count": 20,
   "metadata": {},
   "outputs": [
    {
     "name": "stdout",
     "output_type": "stream",
     "text": [
      "-----------Summary Statistics----------\n",
      "Minimum:  -650\n",
      "Maximum:  613\n",
      "Count:  20\n",
      "Total:  1139\n",
      "Average:  56.95\n",
      "Profitable Count:  13\n",
      "UnProfitable Count:  7\n",
      "Profitable %:  65.0\n",
      "UnProfitable %:  35.0\n"
     ]
    }
   ],
   "source": [
    "print(\"-----------Summary Statistics----------\")\n",
    "print(\"Minimum: \", minimum)\n",
    "print(\"Maximum: \", maximum)\n",
    "print(\"Count: \", count)\n",
    "print(\"Total: \", total)\n",
    "print(\"Average: \", average)\n",
    "print(\"Profitable Count: \", profitable_count)\n",
    "print(\"UnProfitable Count: \", unprofitable_count)\n",
    "print(\"Profitable %: \", percentage_profitable)\n",
    "print(\"UnProfitable %: \", percentage_unprofitable)"
   ]
  },
  {
   "cell_type": "code",
   "execution_count": 11,
   "metadata": {},
   "outputs": [
    {
     "name": "stdout",
     "output_type": "stream",
     "text": [
      "Profitable Days:  [352, 252, 354, 56, 123, 254, 325, 47, 321, 123, 133, 613, 232]\n",
      "Unprofitable Days:  [-224, -544, -650, -43, -123, -151, -311]\n"
     ]
    }
   ],
   "source": [
    "print(\"Profitable Days: \", profitable_days)\n",
    "print(\"Unprofitable Days: \", unprofitable_days)"
   ]
  },
  {
   "cell_type": "code",
   "execution_count": 19,
   "metadata": {},
   "outputs": [
    {
     "name": "stdout",
     "output_type": "stream",
     "text": [
      "-----------Summary Statistics----------\n",
      "Minimum: -650\n",
      "Maximum: 613\n",
      "Count: 20\n",
      "Total: 1139\n",
      "Average: 56.95\n",
      "Profitable Count: 13\n",
      "UnProfitable Count: 7\n",
      "Profitable %:  65.0\n",
      "UnProfitable %: 35.0\n"
     ]
    }
   ],
   "source": [
    "print(\"-----------Summary Statistics----------\")\n",
    "print(f\"Minimum: {minimum}\")\n",
    "print(f\"Maximum: {maximum}\")\n",
    "print(f\"Count: {count}\")\n",
    "print(f\"Total: {total}\")\n",
    "print(f\"Average: {average}\")\n",
    "print(f\"Profitable Count: {profitable_count}\")\n",
    "print(f\"UnProfitable Count: {unprofitable_count}\")\n",
    "print(f\"Profitable %:  {percentage_profitable}\")\n",
    "print(f\"UnProfitable %: {percentage_unprofitable}\")"
   ]
  },
  {
   "cell_type": "code",
   "execution_count": null,
   "metadata": {},
   "outputs": [],
   "source": []
  }
 ],
 "metadata": {
  "kernelspec": {
   "display_name": "Python 3",
   "language": "python",
   "name": "python3"
  },
  "language_info": {
   "codemirror_mode": {
    "name": "ipython",
    "version": 3
   },
   "file_extension": ".py",
   "mimetype": "text/x-python",
   "name": "python",
   "nbconvert_exporter": "python",
   "pygments_lexer": "ipython3",
   "version": "3.7.4"
  }
 },
 "nbformat": 4,
 "nbformat_minor": 4
}
