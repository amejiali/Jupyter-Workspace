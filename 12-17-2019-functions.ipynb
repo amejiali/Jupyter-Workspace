{
 "cells": [
  {
   "cell_type": "code",
   "execution_count": 12,
   "metadata": {},
   "outputs": [
    {
     "name": "stdout",
     "output_type": "stream",
     "text": [
      "Functions are FUN !\n",
      "37\n",
      "hola\n"
     ]
    },
    {
     "name": "stdin",
     "output_type": "stream",
     "text": [
      "What is your name?  Andres\n"
     ]
    },
    {
     "name": "stdout",
     "output_type": "stream",
     "text": [
      "Andres\n"
     ]
    },
    {
     "name": "stdin",
     "output_type": "stream",
     "text": [
      "Are you having a nice day? Yes\n"
     ]
    },
    {
     "name": "stdout",
     "output_type": "stream",
     "text": [
      "Yes\n",
      "15.0\n"
     ]
    }
   ],
   "source": [
    "# Define a function `having_fun` that prints \"Functions are FUN!\".\n",
    "def having_fun ():\n",
    "    print(\"Functions are FUN !\")\n",
    "\n",
    "# Define a function `thirty_seven` that prints the sum of 18 and 19.\n",
    "def thirty_seven ():\n",
    "    print(18 + 19)\n",
    "\n",
    "# Call the two functions you've defined so far.\n",
    "having_fun ()\n",
    "thirty_seven ()\n",
    "# Define a function `hello` that takes in a string parameter and prints the parameter variable.\n",
    "def hello(par1):\n",
    "    print(par1)\n",
    "\n",
    "# Call your `hello` function.\n",
    "hello(\"hola\")\n",
    "\n",
    "# Define a function `user_input` that asks the user \"What is your name?\" and stores it in a variable called `user_name` and print the user's name.\n",
    "def user_input():\n",
    "    user_name = input(\"What is your name? \")\n",
    "    print(user_name)\n",
    "\n",
    "\n",
    "# Call your `user_input` function.\n",
    "user_input()\n",
    "\n",
    "# Define a function `good_day` that creates a input dialogue asking the user \"Are you having a nice day?\" and prints the response.\n",
    "def good_day():\n",
    "    nice = input(\"Are you having a nice day?\")\n",
    "    print(nice)\n",
    "\n",
    "# Call your `good_day` function.\n",
    "good_day()\n",
    "\n",
    "# Define a function `average` that calculates the average between two parameters and returns the average.\n",
    "def average(p1, p2):\n",
    "    avg = (int(p1) + int(p2)) / 2\n",
    "    return avg\n",
    "\n",
    "# Call the `average` function and assign to a variable `calculated_average`.\n",
    "calculated_average = average (10,20)\n",
    "print (calculated_average)"
   ]
  },
  {
   "cell_type": "code",
   "execution_count": null,
   "metadata": {},
   "outputs": [],
   "source": []
  }
 ],
 "metadata": {
  "kernelspec": {
   "display_name": "Python 3",
   "language": "python",
   "name": "python3"
  },
  "language_info": {
   "codemirror_mode": {
    "name": "ipython",
    "version": 3
   },
   "file_extension": ".py",
   "mimetype": "text/x-python",
   "name": "python",
   "nbconvert_exporter": "python",
   "pygments_lexer": "ipython3",
   "version": "3.7.4"
  }
 },
 "nbformat": 4,
 "nbformat_minor": 4
}
