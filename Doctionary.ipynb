{
 "cells": [
  {
   "cell_type": "code",
   "execution_count": 4,
   "metadata": {},
   "outputs": [
    {
     "name": "stdout",
     "output_type": "stream",
     "text": [
      "Name: JP Morgan Chase | Market Cap: 327\n",
      "Name: Bank of America | Market Cap: 302\n",
      "Name: Citigroup | Market Cap: 170\n",
      "Name: Wells Fargo | Market Cap: 273\n",
      "Name: Goldman Sachs | Market Cap: 87\n",
      "Name: Morgan Stanley | Market Cap: 72\n",
      "Name: U.S. Bancorp | Market Cap: 83\n",
      "Name: TD Bank | Market Cap: 108\n",
      "Name: PNC Financial Services | Market Cap: 67\n",
      "Name: Capital One | Market Cap: 47\n",
      "Name: FNB Corporation | Market Cap: 4\n",
      "Name: First Hawaiian Bank | Market Cap: 3\n",
      "Name: Ally Financial | Market Cap: 12\n",
      "Name: Republic Bancorp | Market Cap: 0.97\n",
      "Name: American Express | Market Cap: 100\n"
     ]
    }
   ],
   "source": [
    "\n",
    "\n",
    "# -*- coding: utf-8 -*-\n",
    "\"\"\"\n",
    "Student Activity: Market Capitalization.\n",
    "\n",
    "This script showcases the use of Python Dicts to determine the\n",
    "bank names associated with the corresponding market cap ranges.\n",
    "\"\"\"\n",
    "\n",
    "# Banks and Market Caps\n",
    "#-----------------------\n",
    "# JP Morgan Chase: 327\n",
    "# Bank of America: 302\n",
    "# Citigroup: 173\n",
    "# Wells Fargo: 273\n",
    "# Goldman Sachs: 87\n",
    "# Morgan Stanley: 72\n",
    "# U.S. Bancorp: 83\n",
    "# TD Bank: 108\n",
    "# PNC Financial Services: 67\n",
    "# Capital One: 47\n",
    "# FNB Corporation: 4\n",
    "# First Hawaiian Bank: 3\n",
    "# Ally Financial: 12\n",
    "# Wachovia: 145\n",
    "# Republic Bancorp: .97\n",
    "\n",
    "# @TODO: Initialize a dictionary of banks and market caps (in billions)\n",
    "\n",
    "banks = {}\n",
    "banks = {\n",
    "    \"JP Morgan Chase\": 327,\n",
    "    \"Bank of America\": 302,\n",
    "    \"Citigroup\": 173,\n",
    "    \"Wells Fargo\": 273,\n",
    "    \"Goldman Sachs\": 87,\n",
    "    \"Morgan Stanley\": 72,\n",
    "    \"U.S. Bancorp\": 83,\n",
    "    \"TD Bank\": 108,\n",
    "    \"PNC Financial Services\": 67,\n",
    "    \"Capital One\": 47,\n",
    "    \"FNB Corporation\": 4,\n",
    "    \"First Hawaiian Bank\": 3,\n",
    "    \"Ally Financial\": 12,\n",
    "    \"Wachovia\": 145,\n",
    "    \"Republic Bancorp\": .97\n",
    "}\n",
    "\n",
    "# @TODO: Change the market cap for 'Citigroup'\n",
    "\n",
    "banks[\"Citigroup\"] = 170\n",
    "\n",
    "# @TODO: Add a new bank and market cap pair\n",
    "\n",
    "banks[\"American Express\"] = 100\n",
    "\n",
    "# @TODO: Remove a bank from the dictionary\n",
    "\n",
    "del banks[\"Wachovia\"]\n",
    "\n",
    "# @TODO: Print the modified dictionary\n",
    "\n",
    "for bank_name, market_cap in banks.items():\n",
    "    print(f\"Name: {bank_name} | Market Cap: {market_cap}\")"
   ]
  },
  {
   "cell_type": "code",
   "execution_count": null,
   "metadata": {},
   "outputs": [],
   "source": []
  }
 ],
 "metadata": {
  "kernelspec": {
   "display_name": "Python 3",
   "language": "python",
   "name": "python3"
  },
  "language_info": {
   "codemirror_mode": {
    "name": "ipython",
    "version": 3
   },
   "file_extension": ".py",
   "mimetype": "text/x-python",
   "name": "python",
   "nbconvert_exporter": "python",
   "pygments_lexer": "ipython3",
   "version": "3.7.4"
  }
 },
 "nbformat": 4,
 "nbformat_minor": 4
}
