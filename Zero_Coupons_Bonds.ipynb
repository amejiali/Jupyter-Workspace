{
 "cells": [
  {
   "cell_type": "code",
   "execution_count": 43,
   "metadata": {},
   "outputs": [
    {
     "ename": "SyntaxError",
     "evalue": "invalid syntax (<ipython-input-43-f65277e3f1f4>, line 30)",
     "output_type": "error",
     "traceback": [
      "\u001b[0;36m  File \u001b[0;32m\"<ipython-input-43-f65277e3f1f4>\"\u001b[0;36m, line \u001b[0;32m30\u001b[0m\n\u001b[0;31m    if\u001b[0m\n\u001b[0m       ^\u001b[0m\n\u001b[0;31mSyntaxError\u001b[0m\u001b[0;31m:\u001b[0m invalid syntax\n"
     ]
    }
   ],
   "source": [
    "# -*- coding: utf-8 -*-\n",
    "\"\"\"\n",
    "Zero-Coupon Bond Valuation.\n",
    "\n",
    "This script will calculate the present value of zero-coupon bonds, compare the present value to the price of the bond, and determine the corresponding action (buy, not buy, neutral).\n",
    "\"\"\"\n",
    "\n",
    "# @TODO: Create a function to calculate present value\n",
    "\n",
    "def present_value (future_value, discount_rate, compounding_periods, years):\n",
    "    bond_value = 0\n",
    "    pv = 0\n",
    "    pv = future_value / ((1 + (discount_rate/compounding_periods)) ** years)\n",
    "    bond_value = round (pv,2)\n",
    "    return(bond_value)\n",
    "\n",
    "# Intialize the zero-coupon bond parameters, assume compounding period is equal to 1\n",
    "price = 700\n",
    "future_value = 1000\n",
    "discount_rate = .1\n",
    "compounding_periods = 1\n",
    "years = 5\n",
    "\n",
    "# @TODO: Call the calculate_present_value() function and assign to a variables\n",
    "\n",
    "bond_pv = present_value(future_value, discount_rate, compounding_periods, years)\n",
    "\n",
    "# @TODO: Determine if the bond is worth it\n",
    "\n",
    "if bond_pv > price:\n",
    "    print(f\"Bond is selling a \")"
   ]
  },
  {
   "cell_type": "code",
   "execution_count": null,
   "metadata": {},
   "outputs": [],
   "source": []
  }
 ],
 "metadata": {
  "kernelspec": {
   "display_name": "Python 3",
   "language": "python",
   "name": "python3"
  },
  "language_info": {
   "codemirror_mode": {
    "name": "ipython",
    "version": 3
   },
   "file_extension": ".py",
   "mimetype": "text/x-python",
   "name": "python",
   "nbconvert_exporter": "python",
   "pygments_lexer": "ipython3",
   "version": "3.7.4"
  }
 },
 "nbformat": 4,
 "nbformat_minor": 4
}
