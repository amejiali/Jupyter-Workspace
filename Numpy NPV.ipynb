{
 "cells": [
  {
   "cell_type": "code",
   "execution_count": null,
   "metadata": {},
   "outputs": [],
   "source": [
    "# -*- coding: utf-8 -*-\n",
    "\"\"\"Student Activity: Financial Analysis using NPV.\n",
    "\n",
    "This script will choose the optimal project scenario to\n",
    "undertake based on max NPV values.\n",
    "\"\"\"\n",
    "\n",
    "# @TODO: Import the NumPy library\n",
    "\n",
    "\n",
    "# Discount Rate\n",
    "discount_rate = .1\n",
    "\n",
    "# Initial Investment, Cash Flow 1, Cash Flow 2, Cash Flow 3, Cash Flow 4\n",
    "cash_flows_conservative = [-1000, 400, 400, 400, 400]\n",
    "cash_flows_neutral = [-1500, 600, 600, 600, 600]\n",
    "cash_flows_aggressive = [-2250, 800, 800, 800, 800]\n",
    "\n",
    "# @TODO: Initialize dictionary to hold NPV return values\n",
    "npv_dict = {}\n",
    "\n",
    "# @TODO: Calculate the NPV for each scenario\n",
    "\n",
    "\n",
    "\n",
    "\n",
    "# @TODO: Manually Choose the project with the highest NPV value\n",
    "\n"
   ]
  }
 ],
 "metadata": {
  "kernelspec": {
   "display_name": "Python 3",
   "language": "python",
   "name": "python3"
  },
  "language_info": {
   "codemirror_mode": {
    "name": "ipython",
    "version": 3
   },
   "file_extension": ".py",
   "mimetype": "text/x-python",
   "name": "python",
   "nbconvert_exporter": "python",
   "pygments_lexer": "ipython3",
   "version": "3.7.4"
  }
 },
 "nbformat": 4,
 "nbformat_minor": 4
}
