{
 "cells": [
  {
   "cell_type": "code",
   "execution_count": 36,
   "metadata": {},
   "outputs": [],
   "source": [
    "# -*- coding: utf-8 -*-\n",
    "\"\"\"\n",
    "Student Do: Grocery List.\n",
    "\n",
    "This script showcases basic operations of Python Lists to help Sally\n",
    "organize her grocery shopping list.\n",
    "\"\"\"\n",
    "\n",
    "# @TODO: Create a list of groceries\n",
    "\n",
    "Groceries = [\"Water\", \"Butter\", \"Eggs\", \"Apples\", \"Cinnamon\", \"Sugar\", \"Milk\"]\n",
    "\n",
    "# @TODO: Find the first two items on the list\n",
    "\n",
    "first_two_items = Groceries [:2]\n",
    "\n",
    "\n",
    "# @TODO: Find the last five items on the list\n",
    "\n",
    "last_five_items = Groceries [-5:]\n",
    "\n",
    "\n",
    "# @TODO: Find every other item on the list, starting from the second item\n",
    "\n",
    "every_other_item = Groceries [1::2]\n",
    "\n",
    "\n",
    "# @TODO: Add an element to the end of the list\n",
    "\n",
    "\n",
    "Groceries.append (\"Flour\")\n",
    "\n",
    "\n",
    "# @TODO: Changes a specified element within the list at the given index\n",
    "\n",
    "Groceries[Groceries.index(\"Apples\")] = \"Gala Apples\"\n",
    "\n",
    "\n",
    "# @TODO: Calculate how many items you have in the list\n",
    "\n",
    "list_items = len(Groceries)"
   ]
  },
  {
   "cell_type": "code",
   "execution_count": 21,
   "metadata": {},
   "outputs": [
    {
     "name": "stdout",
     "output_type": "stream",
     "text": [
      "First Two Items in the list:  ['Water', 'Butter']\n"
     ]
    }
   ],
   "source": [
    "print(\"First Two Items in the list: \", first_two_items)"
   ]
  },
  {
   "cell_type": "code",
   "execution_count": 22,
   "metadata": {},
   "outputs": [
    {
     "name": "stdout",
     "output_type": "stream",
     "text": [
      "Last Five Items in the list:  ['Eggs', 'Apples', 'Cinnamon', 'Sugar', 'Milk']\n"
     ]
    }
   ],
   "source": [
    "print(\"Last Five Items in the list: \", last_five_items)"
   ]
  },
  {
   "cell_type": "code",
   "execution_count": 23,
   "metadata": {},
   "outputs": [
    {
     "name": "stdout",
     "output_type": "stream",
     "text": [
      "Every Other Item from the 2nd one:  ['Butter', 'Apples', 'Sugar']\n"
     ]
    }
   ],
   "source": [
    "print(\"Every Other Item from the 2nd one: \", every_other_item)"
   ]
  },
  {
   "cell_type": "code",
   "execution_count": 31,
   "metadata": {},
   "outputs": [
    {
     "name": "stdout",
     "output_type": "stream",
     "text": [
      "['Water', 'Butter', 'Eggs', 'Apples', 'Cinnamon', 'Sugar', 'Milk', 'Flour']\n"
     ]
    }
   ],
   "source": [
    "print(Groceries)"
   ]
  },
  {
   "cell_type": "code",
   "execution_count": 32,
   "metadata": {},
   "outputs": [
    {
     "name": "stdout",
     "output_type": "stream",
     "text": [
      "3\n"
     ]
    }
   ],
   "source": [
    "print(Groceries.index(\"Apples\"))"
   ]
  },
  {
   "cell_type": "code",
   "execution_count": 35,
   "metadata": {},
   "outputs": [
    {
     "name": "stdout",
     "output_type": "stream",
     "text": [
      "['Water', 'Butter', 'Eggs', 'Gala Apples', 'Cinnamon', 'Sugar', 'Milk', 'Flour']\n"
     ]
    }
   ],
   "source": [
    "print(Groceries)"
   ]
  },
  {
   "cell_type": "code",
   "execution_count": 37,
   "metadata": {},
   "outputs": [
    {
     "name": "stdout",
     "output_type": "stream",
     "text": [
      "8\n"
     ]
    }
   ],
   "source": [
    "print(list_items)"
   ]
  },
  {
   "cell_type": "code",
   "execution_count": null,
   "metadata": {},
   "outputs": [],
   "source": []
  }
 ],
 "metadata": {
  "kernelspec": {
   "display_name": "Python 3",
   "language": "python",
   "name": "python3"
  },
  "language_info": {
   "codemirror_mode": {
    "name": "ipython",
    "version": 3
   },
   "file_extension": ".py",
   "mimetype": "text/x-python",
   "name": "python",
   "nbconvert_exporter": "python",
   "pygments_lexer": "ipython3",
   "version": "3.7.4"
  }
 },
 "nbformat": 4,
 "nbformat_minor": 4
}
